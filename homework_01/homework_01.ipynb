{
 "cells": [
  {
   "cell_type": "markdown",
   "id": "8955a739",
   "metadata": {},
   "source": [
    "# Домашнее задание: Базовые типы данных\n",
    "\n"
   ]
  },
  {
   "cell_type": "markdown",
   "id": "d4e67b86",
   "metadata": {},
   "source": [
    "## Задание 1: Зеркальное отражение цифр\n",
    "\n",
    "Пользователь вводит пятизначное число. Программа должна зеркально отразить три центральные цифры. Первая и последняя остаются на местах.\n",
    "\n",
    "<br>\n",
    "\n",
    "**Примеры:**\n",
    "* `23456 -> 25436`\n",
    "* `30789 -> 38709`"
   ]
  },
  {
   "cell_type": "code",
   "execution_count": 12,
   "id": "5a4d665d",
   "metadata": {},
   "outputs": [
    {
     "name": "stdout",
     "output_type": "stream",
     "text": [
      "38709\n"
     ]
    }
   ],
   "source": [
    "tsk1_nmbr = input(\"Введи пятизначное число: \")\n",
    "part_1 = tsk1_nmbr[0]\n",
    "part_2 = tsk1_nmbr[1:4][::-1]\n",
    "part_3 = tsk1_nmbr[4]\n",
    "tsk1_nmbr = part_1+part_2+part_3\n",
    "print(tsk1_nmbr)"
   ]
  },
  {
   "cell_type": "markdown",
   "id": "00b9578b",
   "metadata": {},
   "source": [
    "## Задание 2: Подсчет выходных до отпуска\n",
    "\n",
    "Пользователь вводит сколько дней осталось до ближайшего отпуска. Программа должна вывести количество выходных дней до отпуска, если учесть, что выходные это суббота и воскресенье, сегодня понедельник и праздники мы не учитываем.  \n",
    "\n",
    "<br>\n",
    "\n",
    "**Примеры:**\n",
    "* `4  -> 0`\n",
    "* `6  -> 1`\n",
    "* `14 -> 4`"
   ]
  },
  {
   "cell_type": "code",
   "execution_count": 22,
   "id": "07154103",
   "metadata": {},
   "outputs": [
    {
     "name": "stdout",
     "output_type": "stream",
     "text": [
      "4\n"
     ]
    }
   ],
   "source": [
    "days_until_vacation = int(input(\"Введите количество дней до отпуска: \"))\n",
    "\n",
    "current_day = 1  \n",
    "weekend_days = 2  \n",
    "weekend_count = 0\n",
    "\n",
    "for i in range(days_until_vacation):\n",
    "    if current_day == 6 or current_day == 7:\n",
    "        weekend_count += 1\n",
    "    current_day += 1\n",
    "    if current_day > 7:\n",
    "        current_day = 1\n",
    "\n",
    "print(weekend_count)"
   ]
  },
  {
   "cell_type": "markdown",
   "id": "cdde282c",
   "metadata": {},
   "source": [
    "## Задание 3: Плитка шоколада\n",
    "\n",
    "Пользователь вводит длину и ширину плитки шоколада, а также размер куска, который хочет отломить. Программа должна вычислить - можно ли совершить подобный разлом или нет, если учесть, что ломать можно только по прямой.\n",
    "\n",
    "<br>\n",
    "\n",
    "**Примеры:**\n",
    "* `3, 4, 6  -> True`\n",
    "* `5, 7, 8  -> False`\n",
    "* `4, 5, 12 -> True`"
   ]
  },
  {
   "cell_type": "code",
   "execution_count": 24,
   "id": "70f3324c",
   "metadata": {},
   "outputs": [
    {
     "name": "stdout",
     "output_type": "stream",
     "text": [
      "True\n"
     ]
    }
   ],
   "source": [
    "length = int(input(\"Введи длину плитки: \"))\n",
    "width = int(input(\"Введи ширину плитки: \"))\n",
    "part_size = int(input(\"Введи размер кусочка: \"))\n",
    "\n",
    "whole_size = length * width\n",
    "\n",
    "def can_break():\n",
    "    if length % part_size == 0:\n",
    "        return True\n",
    "    if width % part_size == 0:\n",
    "        return True\n",
    "    if whole_size % 2 == 0:\n",
    "        return True\n",
    "    return False\n",
    "result = can_break()\n",
    "print(result)"
   ]
  },
  {
   "cell_type": "markdown",
   "id": "6470efc1",
   "metadata": {},
   "source": [
    "## Задание 4: Римские числа\n",
    "\n",
    "Пользователь вводит целое положительное число, программа должна вернуть строку в виде римского числа.\n",
    "\n",
    "<br>\n",
    "\n",
    "**Примеры:**\n",
    "* `3   -> III`\n",
    "* `15  -> XV`\n",
    "* `234 -> CCXXXIV`"
   ]
  },
  {
   "cell_type": "code",
   "execution_count": null,
   "id": "8686127c",
   "metadata": {},
   "outputs": [
    {
     "name": "stdout",
     "output_type": "stream",
     "text": [
      "CCXXXV\n"
     ]
    }
   ],
   "source": [
    "def arabic_to_roman():\n",
    "    input_num = int(input(\"Введите число: \"))\n",
    "    arabic_values = [1000, 900, 500, 400, 100, 90, 50, 40, 10, 9, 5, 4, 1]\n",
    "    roman_values = ['M', 'CM', 'D', 'CD', 'C', 'XC', 'L', 'XL', 'X', 'IX', 'V', 'IV', 'I']\n",
    "    \n",
    "    roman = ''  \n",
    "    i = 0      \n",
    "    \n",
    "    while input_num > 0:\n",
    "        if input_num >= arabic_values[i]:\n",
    "            roman += roman_values[i]  \n",
    "            input_num -= arabic_values[i]     \n",
    "        else:\n",
    "            i += 1 \n",
    "    return roman\n",
    "\n",
    "result = arabic_to_roman()\n",
    "print(result)"
   ]
  },
  {
   "cell_type": "code",
   "execution_count": null,
   "id": "4b492052",
   "metadata": {},
   "outputs": [],
   "source": []
  },
  {
   "cell_type": "markdown",
   "id": "ca6a4c0a",
   "metadata": {},
   "source": [
    "## Задание 5: Проверка на вещественное число\n",
    "\n",
    "Пользователь вводит данные, проверить - являются ли они положительным вещественным числом. Не использовать встроенные функции для проверки, только методы данных и конструкцию IF. (Дополнительное задание, по желанию - проверка на отрицательные вещественные числа)\n",
    "\n",
    "<br>\n",
    "\n",
    "**Примеры:**\n",
    "* `5.6  -> True`\n",
    "* `.78  -> True`\n",
    "* `.67. -> False`\n",
    "* `5    -> True`"
   ]
  },
  {
   "cell_type": "code",
   "execution_count": null,
   "id": "74e39179",
   "metadata": {},
   "outputs": [
    {
     "name": "stdout",
     "output_type": "stream",
     "text": [
      "True\n"
     ]
    }
   ],
   "source": [
    "def check_value():\n",
    "    value = input(\"Введи число: \")\n",
    "    got_count = 0\n",
    "    for char in value:\n",
    "        if char == '.':\n",
    "            got_count += 1\n",
    "        if got_count > 1:\n",
    "            return False\n",
    "    if value[0] == '-':\n",
    "        return False\n",
    "    return True\n",
    "\n",
    "result = check_value()\n",
    "print(result)"
   ]
  }
 ],
 "metadata": {
  "kernelspec": {
   "display_name": "base",
   "language": "python",
   "name": "python3"
  },
  "language_info": {
   "codemirror_mode": {
    "name": "ipython",
    "version": 3
   },
   "file_extension": ".py",
   "mimetype": "text/x-python",
   "name": "python",
   "nbconvert_exporter": "python",
   "pygments_lexer": "ipython3",
   "version": "3.12.7"
  }
 },
 "nbformat": 4,
 "nbformat_minor": 5
}
